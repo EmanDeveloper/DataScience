{
 "cells": [
  {
   "cell_type": "code",
   "execution_count": 1,
   "id": "6f4428ab",
   "metadata": {},
   "outputs": [
    {
     "name": "stdout",
     "output_type": "stream",
     "text": [
      "Age: 22\n",
      "Height: 6.1\n",
      "Name: Eman\n"
     ]
    }
   ],
   "source": [
    "age = 22\n",
    "height = 6.1\n",
    "name = 'Eman'\n",
    "is_student = True\n",
    "\n",
    "print('Age:', age)\n",
    "print('Height:', height)\n",
    "print('Name:', name)"
   ]
  },
  {
   "cell_type": "code",
   "execution_count": 2,
   "id": "d06bc3e3",
   "metadata": {},
   "outputs": [
    {
     "name": "stdout",
     "output_type": "stream",
     "text": [
      "<class 'int'>\n",
      "25\n",
      "<class 'str'>\n"
     ]
    }
   ],
   "source": [
    "age = 25\n",
    "print(type(age)) \n",
    "age_str = str(age)\n",
    "print(age_str)  \n",
    "print(type(age_str))  "
   ]
  },
  {
   "cell_type": "code",
   "execution_count": 3,
   "id": "d26e81d9",
   "metadata": {},
   "outputs": [
    {
     "name": "stdout",
     "output_type": "stream",
     "text": [
      "22\n",
      "<class 'str'>\n",
      "<class 'int'>\n"
     ]
    }
   ],
   "source": [
    "age = input('What is your age? ')\n",
    "print(age)\n",
    "print(type(age))  # <class 'str'>\n",
    "\n",
    "# To convert to int\n",
    "typed_age = int(input('What is your age? '))\n",
    "print(type(typed_age))  # <class 'int'>"
   ]
  }
 ],
 "metadata": {
  "kernelspec": {
   "display_name": "myenv",
   "language": "python",
   "name": "python3"
  },
  "language_info": {
   "codemirror_mode": {
    "name": "ipython",
    "version": 3
   },
   "file_extension": ".py",
   "mimetype": "text/x-python",
   "name": "python",
   "nbconvert_exporter": "python",
   "pygments_lexer": "ipython3",
   "version": "3.12.4"
  }
 },
 "nbformat": 4,
 "nbformat_minor": 5
}

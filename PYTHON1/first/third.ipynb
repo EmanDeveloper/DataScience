{
 "cells": [
  {
   "cell_type": "code",
   "execution_count": 1,
   "id": "7a367ab3",
   "metadata": {},
   "outputs": [
    {
     "name": "stdout",
     "output_type": "stream",
     "text": [
      "25\n",
      "-5\n",
      "150\n",
      "0.6666666666666666\n",
      "0\n",
      "10\n",
      "1000000000000000\n"
     ]
    }
   ],
   "source": [
    "a = 10\n",
    "b = 15\n",
    "add_result = a + b\n",
    "sub_result = a - b\n",
    "mul_result = a * b\n",
    "div_result = a / b\n",
    "floor_div_result = a // b\n",
    "modulus_result = a % b\n",
    "exponential_result = a ** b\n",
    "print(add_result)\n",
    "print(sub_result)\n",
    "print(mul_result)\n",
    "print(div_result)\n",
    "print(floor_div_result)\n",
    "print(modulus_result)\n",
    "print(exponential_result)"
   ]
  },
  {
   "cell_type": "code",
   "execution_count": 2,
   "id": "07f8d42f",
   "metadata": {},
   "outputs": [
    {
     "name": "stdout",
     "output_type": "stream",
     "text": [
      "4.2\n",
      "4\n"
     ]
    }
   ],
   "source": [
    "print(21 / 5)\n",
    "print(21 // 5)"
   ]
  },
  {
   "cell_type": "code",
   "execution_count": 3,
   "id": "33d2b6c3",
   "metadata": {},
   "outputs": [
    {
     "name": "stdout",
     "output_type": "stream",
     "text": [
      "True\n",
      "False\n"
     ]
    }
   ],
   "source": [
    "str1 = \"Crush\"\n",
    "str2 = \"Crush\"\n",
    "print(str1 == str2)\n",
    "str3 = \"crush\"\n",
    "print(str1 == str3)"
   ]
  },
  {
   "cell_type": "code",
   "execution_count": 4,
   "id": "87c64906",
   "metadata": {},
   "outputs": [
    {
     "name": "stdout",
     "output_type": "stream",
     "text": [
      "False\n",
      "True\n"
     ]
    }
   ],
   "source": [
    "print(str1 != str2)\n",
    "print(str3 != str2)"
   ]
  },
  {
   "cell_type": "code",
   "execution_count": 5,
   "id": "b629c55a",
   "metadata": {},
   "outputs": [
    {
     "name": "stdout",
     "output_type": "stream",
     "text": [
      "False\n",
      "True\n"
     ]
    }
   ],
   "source": [
    "num1 = 45\n",
    "num2 = 55\n",
    "print(num1 > num2)\n",
    "print(num1 < num2)"
   ]
  },
  {
   "cell_type": "code",
   "execution_count": 6,
   "id": "572e6130",
   "metadata": {},
   "outputs": [
    {
     "name": "stdout",
     "output_type": "stream",
     "text": [
      "True\n",
      "True\n",
      "True\n"
     ]
    }
   ],
   "source": [
    "num1 = 45\n",
    "num2 = 45\n",
    "print(num1 >= num2)\n",
    "print(num1 <= num2)\n",
    "num1 = 44\n",
    "print(num1 <= num2)"
   ]
  },
  {
   "cell_type": "code",
   "execution_count": 7,
   "id": "497fced9",
   "metadata": {},
   "outputs": [
    {
     "name": "stdout",
     "output_type": "stream",
     "text": [
      "True\n",
      "False\n"
     ]
    }
   ],
   "source": [
    "x = True\n",
    "y = True\n",
    "result = x and y\n",
    "print(result)\n",
    "y = False\n",
    "result = x and y\n",
    "print(result)"
   ]
  },
  {
   "cell_type": "code",
   "execution_count": 8,
   "id": "04c47f31",
   "metadata": {},
   "outputs": [
    {
     "name": "stdout",
     "output_type": "stream",
     "text": [
      "True\n",
      "False\n"
     ]
    }
   ],
   "source": [
    "x = True\n",
    "y = False\n",
    "result = x or y\n",
    "print(result)\n",
    "x = False\n",
    "y = False\n",
    "result = x or y\n",
    "print(result)"
   ]
  },
  {
   "cell_type": "code",
   "execution_count": 9,
   "id": "b36a9158",
   "metadata": {},
   "outputs": [
    {
     "name": "stdout",
     "output_type": "stream",
     "text": [
      "False\n",
      "True\n"
     ]
    }
   ],
   "source": [
    "x = True\n",
    "print(not x)\n",
    "x = False\n",
    "print(not x)"
   ]
  }
 ],
 "metadata": {
  "kernelspec": {
   "display_name": "Python 3",
   "language": "python",
   "name": "python3"
  },
  "language_info": {
   "codemirror_mode": {
    "name": "ipython",
    "version": 3
   },
   "file_extension": ".py",
   "mimetype": "text/x-python",
   "name": "python",
   "nbconvert_exporter": "python",
   "pygments_lexer": "ipython3",
   "version": "3.12.4"
  }
 },
 "nbformat": 4,
 "nbformat_minor": 5
}

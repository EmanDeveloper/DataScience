{
 "cells": [
  {
   "cell_type": "code",
   "execution_count": null,
   "id": "6f4428ab",
   "metadata": {},
   "outputs": [],
   "source": [
    "age = 32\n",
    "height = 6.1\n",
    "name = 'Krish'\n",
    "is_student = True"
   ]
  }
 ],
 "metadata": {
  "language_info": {
   "name": "python"
  }
 },
 "nbformat": 4,
 "nbformat_minor": 5
}
